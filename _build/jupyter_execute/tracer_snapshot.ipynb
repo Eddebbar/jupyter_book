{
 "cells": [
  {
   "cell_type": "markdown",
   "id": "4d7d2615-3798-4bff-875f-8e297e3e0699",
   "metadata": {},
   "source": [
    "# Title of Notebook"
   ]
  },
  {
   "cell_type": "code",
   "execution_count": 1,
   "id": "21b0c0b4-d2a6-48b4-b740-931e899dfbdc",
   "metadata": {},
   "outputs": [],
   "source": [
    "a=1"
   ]
  },
  {
   "cell_type": "code",
   "execution_count": 2,
   "id": "f5619ebd-25e2-4b1a-88bb-743c6e7cf82f",
   "metadata": {},
   "outputs": [],
   "source": [
    "b=3"
   ]
  },
  {
   "cell_type": "code",
   "execution_count": 3,
   "id": "df5cb935-ea1e-469b-a251-ec421c47e090",
   "metadata": {},
   "outputs": [
    {
     "name": "stdout",
     "output_type": "stream",
     "text": [
      "3\n"
     ]
    }
   ],
   "source": [
    "print(a*b)"
   ]
  }
 ],
 "metadata": {
  "kernelspec": {
   "display_name": "Python 3 (ipykernel)",
   "language": "python",
   "name": "tpac_o2"
  },
  "language_info": {
   "codemirror_mode": {
    "name": "ipython",
    "version": 3
   },
   "file_extension": ".py",
   "mimetype": "text/x-python",
   "name": "python",
   "nbconvert_exporter": "python",
   "pygments_lexer": "ipython3",
   "version": "3.7.12"
  }
 },
 "nbformat": 4,
 "nbformat_minor": 5
}